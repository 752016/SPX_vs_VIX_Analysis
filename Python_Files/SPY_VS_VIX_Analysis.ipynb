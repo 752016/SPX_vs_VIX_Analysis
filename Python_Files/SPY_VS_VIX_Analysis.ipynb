{
  "nbformat": 4,
  "nbformat_minor": 0,
  "metadata": {
    "colab": {
      "provenance": []
    },
    "kernelspec": {
      "name": "python3",
      "display_name": "Python 3"
    },
    "language_info": {
      "name": "python"
    }
  },
  "cells": [
    {
      "cell_type": "code",
      "execution_count": 23,
      "metadata": {
        "id": "WMn7eIaZbXdt"
      },
      "outputs": [],
      "source": [
        "import pandas as pd\n",
        "import io\n",
        "import numpy as np"
      ]
    },
    {
      "cell_type": "code",
      "source": [
        "from google.colab import files\n",
        "uploaded = files.upload()"
      ],
      "metadata": {
        "colab": {
          "base_uri": "https://localhost:8080/",
          "height": 107
        },
        "id": "otHdp_Nt31j6",
        "outputId": "2829b523-211a-471d-8b39-c7af2867dd22"
      },
      "execution_count": 17,
      "outputs": [
        {
          "output_type": "display_data",
          "data": {
            "text/plain": [
              "<IPython.core.display.HTML object>"
            ],
            "text/html": [
              "\n",
              "     <input type=\"file\" id=\"files-b8b5ad36-7b19-42e7-972d-f8a5b0a7588d\" name=\"files[]\" multiple disabled\n",
              "        style=\"border:none\" />\n",
              "     <output id=\"result-b8b5ad36-7b19-42e7-972d-f8a5b0a7588d\">\n",
              "      Upload widget is only available when the cell has been executed in the\n",
              "      current browser session. Please rerun this cell to enable.\n",
              "      </output>\n",
              "      <script>// Copyright 2017 Google LLC\n",
              "//\n",
              "// Licensed under the Apache License, Version 2.0 (the \"License\");\n",
              "// you may not use this file except in compliance with the License.\n",
              "// You may obtain a copy of the License at\n",
              "//\n",
              "//      http://www.apache.org/licenses/LICENSE-2.0\n",
              "//\n",
              "// Unless required by applicable law or agreed to in writing, software\n",
              "// distributed under the License is distributed on an \"AS IS\" BASIS,\n",
              "// WITHOUT WARRANTIES OR CONDITIONS OF ANY KIND, either express or implied.\n",
              "// See the License for the specific language governing permissions and\n",
              "// limitations under the License.\n",
              "\n",
              "/**\n",
              " * @fileoverview Helpers for google.colab Python module.\n",
              " */\n",
              "(function(scope) {\n",
              "function span(text, styleAttributes = {}) {\n",
              "  const element = document.createElement('span');\n",
              "  element.textContent = text;\n",
              "  for (const key of Object.keys(styleAttributes)) {\n",
              "    element.style[key] = styleAttributes[key];\n",
              "  }\n",
              "  return element;\n",
              "}\n",
              "\n",
              "// Max number of bytes which will be uploaded at a time.\n",
              "const MAX_PAYLOAD_SIZE = 100 * 1024;\n",
              "\n",
              "function _uploadFiles(inputId, outputId) {\n",
              "  const steps = uploadFilesStep(inputId, outputId);\n",
              "  const outputElement = document.getElementById(outputId);\n",
              "  // Cache steps on the outputElement to make it available for the next call\n",
              "  // to uploadFilesContinue from Python.\n",
              "  outputElement.steps = steps;\n",
              "\n",
              "  return _uploadFilesContinue(outputId);\n",
              "}\n",
              "\n",
              "// This is roughly an async generator (not supported in the browser yet),\n",
              "// where there are multiple asynchronous steps and the Python side is going\n",
              "// to poll for completion of each step.\n",
              "// This uses a Promise to block the python side on completion of each step,\n",
              "// then passes the result of the previous step as the input to the next step.\n",
              "function _uploadFilesContinue(outputId) {\n",
              "  const outputElement = document.getElementById(outputId);\n",
              "  const steps = outputElement.steps;\n",
              "\n",
              "  const next = steps.next(outputElement.lastPromiseValue);\n",
              "  return Promise.resolve(next.value.promise).then((value) => {\n",
              "    // Cache the last promise value to make it available to the next\n",
              "    // step of the generator.\n",
              "    outputElement.lastPromiseValue = value;\n",
              "    return next.value.response;\n",
              "  });\n",
              "}\n",
              "\n",
              "/**\n",
              " * Generator function which is called between each async step of the upload\n",
              " * process.\n",
              " * @param {string} inputId Element ID of the input file picker element.\n",
              " * @param {string} outputId Element ID of the output display.\n",
              " * @return {!Iterable<!Object>} Iterable of next steps.\n",
              " */\n",
              "function* uploadFilesStep(inputId, outputId) {\n",
              "  const inputElement = document.getElementById(inputId);\n",
              "  inputElement.disabled = false;\n",
              "\n",
              "  const outputElement = document.getElementById(outputId);\n",
              "  outputElement.innerHTML = '';\n",
              "\n",
              "  const pickedPromise = new Promise((resolve) => {\n",
              "    inputElement.addEventListener('change', (e) => {\n",
              "      resolve(e.target.files);\n",
              "    });\n",
              "  });\n",
              "\n",
              "  const cancel = document.createElement('button');\n",
              "  inputElement.parentElement.appendChild(cancel);\n",
              "  cancel.textContent = 'Cancel upload';\n",
              "  const cancelPromise = new Promise((resolve) => {\n",
              "    cancel.onclick = () => {\n",
              "      resolve(null);\n",
              "    };\n",
              "  });\n",
              "\n",
              "  // Wait for the user to pick the files.\n",
              "  const files = yield {\n",
              "    promise: Promise.race([pickedPromise, cancelPromise]),\n",
              "    response: {\n",
              "      action: 'starting',\n",
              "    }\n",
              "  };\n",
              "\n",
              "  cancel.remove();\n",
              "\n",
              "  // Disable the input element since further picks are not allowed.\n",
              "  inputElement.disabled = true;\n",
              "\n",
              "  if (!files) {\n",
              "    return {\n",
              "      response: {\n",
              "        action: 'complete',\n",
              "      }\n",
              "    };\n",
              "  }\n",
              "\n",
              "  for (const file of files) {\n",
              "    const li = document.createElement('li');\n",
              "    li.append(span(file.name, {fontWeight: 'bold'}));\n",
              "    li.append(span(\n",
              "        `(${file.type || 'n/a'}) - ${file.size} bytes, ` +\n",
              "        `last modified: ${\n",
              "            file.lastModifiedDate ? file.lastModifiedDate.toLocaleDateString() :\n",
              "                                    'n/a'} - `));\n",
              "    const percent = span('0% done');\n",
              "    li.appendChild(percent);\n",
              "\n",
              "    outputElement.appendChild(li);\n",
              "\n",
              "    const fileDataPromise = new Promise((resolve) => {\n",
              "      const reader = new FileReader();\n",
              "      reader.onload = (e) => {\n",
              "        resolve(e.target.result);\n",
              "      };\n",
              "      reader.readAsArrayBuffer(file);\n",
              "    });\n",
              "    // Wait for the data to be ready.\n",
              "    let fileData = yield {\n",
              "      promise: fileDataPromise,\n",
              "      response: {\n",
              "        action: 'continue',\n",
              "      }\n",
              "    };\n",
              "\n",
              "    // Use a chunked sending to avoid message size limits. See b/62115660.\n",
              "    let position = 0;\n",
              "    do {\n",
              "      const length = Math.min(fileData.byteLength - position, MAX_PAYLOAD_SIZE);\n",
              "      const chunk = new Uint8Array(fileData, position, length);\n",
              "      position += length;\n",
              "\n",
              "      const base64 = btoa(String.fromCharCode.apply(null, chunk));\n",
              "      yield {\n",
              "        response: {\n",
              "          action: 'append',\n",
              "          file: file.name,\n",
              "          data: base64,\n",
              "        },\n",
              "      };\n",
              "\n",
              "      let percentDone = fileData.byteLength === 0 ?\n",
              "          100 :\n",
              "          Math.round((position / fileData.byteLength) * 100);\n",
              "      percent.textContent = `${percentDone}% done`;\n",
              "\n",
              "    } while (position < fileData.byteLength);\n",
              "  }\n",
              "\n",
              "  // All done.\n",
              "  yield {\n",
              "    response: {\n",
              "      action: 'complete',\n",
              "    }\n",
              "  };\n",
              "}\n",
              "\n",
              "scope.google = scope.google || {};\n",
              "scope.google.colab = scope.google.colab || {};\n",
              "scope.google.colab._files = {\n",
              "  _uploadFiles,\n",
              "  _uploadFilesContinue,\n",
              "};\n",
              "})(self);\n",
              "</script> "
            ]
          },
          "metadata": {}
        },
        {
          "output_type": "stream",
          "name": "stdout",
          "text": [
            "Saving SPYVIXF2.csv to SPYVIXF2 (1).csv\n",
            "Saving SPYVIXF1.csv to SPYVIXF1 (1).csv\n"
          ]
        }
      ]
    },
    {
      "cell_type": "code",
      "source": [
        "df1 = pd.read_csv(io.BytesIO(uploaded['SPYVIXF1.csv']))\n",
        "print(df1)"
      ],
      "metadata": {
        "colab": {
          "base_uri": "https://localhost:8080/"
        },
        "id": "uQoIUe5T4JGU",
        "outputId": "d1e5b5a7-3ae1-4f35-e5be-e127e1f7d418"
      },
      "execution_count": 19,
      "outputs": [
        {
          "output_type": "stream",
          "name": "stdout",
          "text": [
            "            Date   SPY_PRICE  VIX_PRICE  SPY_Volume  SPY_CHANGE_PCT  \\\n",
            "0     2010-01-04  112.850002  20.860001   118944600             NaN   \n",
            "1     2010-01-05  113.445000  19.700000   111579900           0.527   \n",
            "2     2010-01-06  113.614998  19.375000   116074400           0.150   \n",
            "3     2010-01-07  113.845001  19.370000   131091100           0.202   \n",
            "4     2010-01-08  114.230000  18.700000   126402800           0.338   \n",
            "...          ...         ...        ...         ...             ...   \n",
            "3293  2023-02-02  415.819992  18.235000   101654500           1.915   \n",
            "3294  2023-02-03  411.970001  18.450000    94647400          -0.926   \n",
            "3295  2023-02-06  409.809998  19.330000    60295300          -0.524   \n",
            "3296  2023-02-07  412.029999  19.100000    90990700           0.542   \n",
            "3297  2023-02-08  411.889999  19.254999    76227500          -0.034   \n",
            "\n",
            "      VIX_CHANGE_PCT  \n",
            "0                NaN  \n",
            "1             -5.561  \n",
            "2             -1.650  \n",
            "3             -0.026  \n",
            "4             -3.459  \n",
            "...              ...  \n",
            "3293          -2.721  \n",
            "3294           1.179  \n",
            "3295           4.770  \n",
            "3296          -1.190  \n",
            "3297           0.812  \n",
            "\n",
            "[3298 rows x 6 columns]\n"
          ]
        }
      ]
    },
    {
      "cell_type": "code",
      "source": [
        "df2 = pd.read_csv(io.BytesIO(uploaded['SPYVIXF2.csv']))\n",
        "print(df2)"
      ],
      "metadata": {
        "colab": {
          "base_uri": "https://localhost:8080/"
        },
        "id": "jE8CiOps4vtS",
        "outputId": "cbd10f90-a9a9-421a-a7b9-1875c7df7c21"
      },
      "execution_count": 18,
      "outputs": [
        {
          "output_type": "stream",
          "name": "stdout",
          "text": [
            "    year_month  Business_Days     AVG_SPY    AVG_VIX  AVG_SPY_CHANGE_PCT  \\\n",
            "0      2010-01             19  112.512368  20.625789               -0.23   \n",
            "1      2010-02             19  109.050263  22.805526                0.13   \n",
            "2      2010-03             23  115.368478  17.853043                0.24   \n",
            "3      2010-04             21  119.815000  17.402381                0.12   \n",
            "4      2010-05             20  112.928750  31.772000               -0.42   \n",
            "..         ...            ...         ...        ...                 ...   \n",
            "153    2022-10             21  370.935714  30.310714                0.35   \n",
            "154    2022-11             21  391.056903  23.729524                0.19   \n",
            "155    2022-12             21  390.805476  21.932381               -0.24   \n",
            "156    2023-01             20  394.129000  20.441750                0.29   \n",
            "157    2023-02              6  411.587496  18.852500                0.34   \n",
            "\n",
            "     AVG_VIX_CHANGE_PCT  \n",
            "0                  1.03  \n",
            "1                 -0.98  \n",
            "2                 -0.44  \n",
            "3                  0.88  \n",
            "4                  2.87  \n",
            "..                  ...  \n",
            "153               -0.81  \n",
            "154               -1.00  \n",
            "155                0.21  \n",
            "156               -0.43  \n",
            "157               -0.38  \n",
            "\n",
            "[158 rows x 6 columns]\n"
          ]
        }
      ]
    },
    {
      "cell_type": "markdown",
      "source": [
        "1. Find the average number of business days per month throughout the period January 2010-February 2023"
      ],
      "metadata": {
        "id": "YWxngkR_-lOs"
      }
    },
    {
      "cell_type": "code",
      "source": [
        "avg_business_days = df2['Business_Days'].mean()\n",
        "\n",
        "print(avg_business_days)"
      ],
      "metadata": {
        "colab": {
          "base_uri": "https://localhost:8080/"
        },
        "id": "3VtIBOZ8-ax5",
        "outputId": "edb6bdb2-f2b5-478d-e25a-23fa033ec574"
      },
      "execution_count": 20,
      "outputs": [
        {
          "output_type": "stream",
          "name": "stdout",
          "text": [
            "20.873417721518987\n"
          ]
        }
      ]
    },
    {
      "cell_type": "markdown",
      "source": [
        "2. What is the average daily percent return of the SPDR S&P 500 Index ETF during this period?"
      ],
      "metadata": {
        "id": "lEiQVTTj-5JR"
      }
    },
    {
      "cell_type": "code",
      "source": [
        "avg_daily_return = df1['SPY_CHANGE_PCT'].mean()\n",
        "\n",
        "print(avg_daily_return)"
      ],
      "metadata": {
        "colab": {
          "base_uri": "https://localhost:8080/"
        },
        "id": "xVcjUOYv-2KR",
        "outputId": "9889a205-e4f0-47db-85af-99b04f09492e"
      },
      "execution_count": 21,
      "outputs": [
        {
          "output_type": "stream",
          "name": "stdout",
          "text": [
            "0.04342129208371247\n"
          ]
        }
      ]
    },
    {
      "cell_type": "markdown",
      "source": [
        "3. Find the total number of days where the S&P 500 ETF declined from the previous day's close and percentage of total days where this occurs. Additionally, find the average return of the S&P 500 ETF given that the instrument declined from the previous day. "
      ],
      "metadata": {
        "id": "mQZL3y00_y0f"
      }
    },
    {
      "cell_type": "code",
      "source": [
        "# To count the total number of days where the change in $SPY was negative\n",
        "\n",
        "red_days = np.sum(df1['SPY_CHANGE_PCT'] < 0)\n",
        "print(red_days)\n",
        "\n",
        "# We observe that there is a total of 1440 red days\n",
        "\n",
        "# Next, we can divide this value by the total number of observations to determine the percent of days that are red\n",
        "\n",
        "pct_red_days = red_days / len(df1) * 100\n",
        "print(pct_red_days)\n",
        "\n",
        "# We observe that approximately 43.7% of days close red. There is about a 4/7 chance that the SPY closes red on a random day\n",
        "\n",
        "# Lastly, let's determine the average return of the $SPY given that the day is red\n",
        "\n",
        "avg_return_red = df1.loc[df1['SPY_CHANGE_PCT'] < 0, 'SPY_CHANGE_PCT'].mean()\n",
        "print(avg_return_red)\n",
        "\n",
        "# We find that the $SPY's average return for a red day is approximately -0.644%"
      ],
      "metadata": {
        "colab": {
          "base_uri": "https://localhost:8080/"
        },
        "id": "BnnPx9-oBBtf",
        "outputId": "57ed6e07-f390-47d3-9bf4-2cac4f5dbb5a"
      },
      "execution_count": 30,
      "outputs": [
        {
          "output_type": "stream",
          "name": "stdout",
          "text": [
            "1440\n",
            "43.66282595512432\n",
            "-0.6443284722222222\n"
          ]
        }
      ]
    },
    {
      "cell_type": "markdown",
      "source": [
        "4. Find the total number of days where the S&P 500 ETF appreciated from the previous day's close and percentage of total days where this occurs. Additionally, find the average return of the S&P 500 ETF given that the instrument appreciated from the previous day. "
      ],
      "metadata": {
        "id": "Eer74EKjCbMT"
      }
    },
    {
      "cell_type": "code",
      "source": [
        "#The above code may be recycled and used to determine the same summary statistics for green days\n",
        "\n",
        "green_days = np.sum(df1['SPY_CHANGE_PCT'] > 0)\n",
        "print(green_days)\n",
        "\n",
        "pct_green_days = green_days / len(df1) * 100\n",
        "print(pct_green_days)\n",
        "\n",
        "avg_return_green = df1.loc[df1['SPY_CHANGE_PCT'] > 0, 'SPY_CHANGE_PCT'].mean()\n",
        "print(avg_return_green)\n",
        "\n",
        "#We observe that there were 1851 green days over this period, approximatly 56.1% of days \n",
        "#(0% return days are not included). Additionally, the average return for a green day is approximately 0.578%, a lower magnitude than the average red day"
      ],
      "metadata": {
        "colab": {
          "base_uri": "https://localhost:8080/"
        },
        "id": "TmQJmfwuCalr",
        "outputId": "fc205243-5186-4261-b8bf-d590e5a16ce7"
      },
      "execution_count": 31,
      "outputs": [
        {
          "output_type": "stream",
          "name": "stdout",
          "text": [
            "1851\n",
            "56.124924196482716\n",
            "0.578602377093463\n"
          ]
        }
      ]
    },
    {
      "cell_type": "markdown",
      "source": [
        "5. What is the daily return of the VIX Index given that the $SPY depreciated during the trading period?"
      ],
      "metadata": {
        "id": "9M-gas56DpzR"
      }
    },
    {
      "cell_type": "code",
      "source": [
        "avg_redday_VIX = df1.loc[df1['SPY_CHANGE_PCT'] < 0, 'VIX_CHANGE_PCT'].mean()\n",
        "print(avg_redday_VIX)\n",
        "\n",
        "#The VIX appreciates by an average of 4.33% on a red day"
      ],
      "metadata": {
        "colab": {
          "base_uri": "https://localhost:8080/"
        },
        "id": "fG38QVnqEG3j",
        "outputId": "2e858c1b-dbb1-4204-ffb4-f710b55e0158"
      },
      "execution_count": 33,
      "outputs": [
        {
          "output_type": "stream",
          "name": "stdout",
          "text": [
            "4.339879166666667\n"
          ]
        }
      ]
    },
    {
      "cell_type": "markdown",
      "source": [
        "6. What is the daily return of the VIX Index given that the $SPY appreciated during the trading period?"
      ],
      "metadata": {
        "id": "zSVDAYfpEcmg"
      }
    },
    {
      "cell_type": "code",
      "source": [
        "avg_greenday_VIX = df1.loc[df1['SPY_CHANGE_PCT'] > 0, 'VIX_CHANGE_PCT'].mean()\n",
        "print(avg_greenday_VIX)\n",
        "\n",
        "#The VIX depreciates by an average of 3.04% on a red day"
      ],
      "metadata": {
        "colab": {
          "base_uri": "https://localhost:8080/"
        },
        "id": "rXBM7Gz_EhtM",
        "outputId": "8331479f-5eb8-4e7b-a647-4915554d0342"
      },
      "execution_count": 34,
      "outputs": [
        {
          "output_type": "stream",
          "name": "stdout",
          "text": [
            "-3.0426202052944356\n"
          ]
        }
      ]
    },
    {
      "cell_type": "markdown",
      "source": [
        "7. Compare the total number of days where the VIX Index closes green against the total number of days where the $SPY closes red"
      ],
      "metadata": {
        "id": "4YvvHL5JJekM"
      }
    },
    {
      "cell_type": "code",
      "source": [
        "VIX_green_days = np.sum(df1['VIX_CHANGE_PCT'] > 0)\n",
        "print(VIX_green_days)\n",
        "\n",
        "pct_VIXG_SPYR = VIX_green_days/red_days\n",
        "\n",
        "print(pct_VIXG_SPYR)\n",
        "\n",
        "# We observe a strong but imperfect inverse relationship; there are 1.06 days where the VIX closes green for every day the $SPY closes red"
      ],
      "metadata": {
        "colab": {
          "base_uri": "https://localhost:8080/"
        },
        "id": "OAcCpuUyP6oq",
        "outputId": "efffabad-ca75-4506-91ff-fdb3568effa4"
      },
      "execution_count": 38,
      "outputs": [
        {
          "output_type": "stream",
          "name": "stdout",
          "text": [
            "1523\n",
            "1.0576388888888888\n"
          ]
        }
      ]
    },
    {
      "cell_type": "markdown",
      "source": [
        "8. Compare the total number of days where the VIX Index closes red against the total number of days where the $SPY closes green"
      ],
      "metadata": {
        "id": "_q6ENAXMLX8s"
      }
    },
    {
      "cell_type": "code",
      "source": [
        "VIX_red_days = np.sum(df1['VIX_CHANGE_PCT'] < 0)\n",
        "print(VIX_red_days)\n",
        "\n",
        "pct_VIXR_SPYG = VIX_red_days/green_days\n",
        "\n",
        "print(pct_VIXR_SPYG)\n",
        "\n",
        "# Conversely, we observe that there are 0.95 days where the VIX closes red for every day the $SPY closes green"
      ],
      "metadata": {
        "colab": {
          "base_uri": "https://localhost:8080/"
        },
        "id": "Ko8aBkAkQnhl",
        "outputId": "4d1d923e-f8c3-43f8-f571-155ad46e8e08"
      },
      "execution_count": 39,
      "outputs": [
        {
          "output_type": "stream",
          "name": "stdout",
          "text": [
            "1770\n",
            "0.9562398703403565\n"
          ]
        }
      ]
    },
    {
      "cell_type": "markdown",
      "source": [
        "9. FInd the total number of days where the $SPY closes >+2%, and the average return for this subset of days"
      ],
      "metadata": {
        "id": "abH310rJL_fu"
      }
    },
    {
      "cell_type": "code",
      "source": [
        "twopct_green_days = np.sum(df1['SPY_CHANGE_PCT'] > 2)\n",
        "print(twopct_green_days)\n",
        "\n",
        "#We observe that there are a total of 56 days during this 13 year period where the $SPY closes >+2%\n",
        "\n",
        "avg_return_twopct_green = df1.loc[df1['SPY_CHANGE_PCT'] > 2, 'SPY_CHANGE_PCT'].mean()\n",
        "print(avg_return_twopct_green)\n",
        "\n",
        "#The average return for this subset of 56 days is 2.83%\n",
        "\n"
      ],
      "metadata": {
        "colab": {
          "base_uri": "https://localhost:8080/"
        },
        "id": "cRHH4oosSDRH",
        "outputId": "43e2302a-cc3c-4e8e-ebda-7c18ff14e680"
      },
      "execution_count": 43,
      "outputs": [
        {
          "output_type": "stream",
          "name": "stdout",
          "text": [
            "56\n",
            "2.833678571428571\n"
          ]
        }
      ]
    },
    {
      "cell_type": "markdown",
      "source": [
        "10. FInd the total number of days where the $SPY closes <-2%, and the average return for this subset of days"
      ],
      "metadata": {
        "id": "aSl-KY3lMKRq"
      }
    },
    {
      "cell_type": "code",
      "source": [
        "twopct_red_days = np.sum(df1['SPY_CHANGE_PCT'] < -2)\n",
        "print(twopct_red_days)\n",
        "\n",
        "#We observe that there are a total of 65 days during this 13 year period where the $SPY closes <-2%\n",
        "\n",
        "avg_return_twopct_red = df1.loc[df1['SPY_CHANGE_PCT'] < -2, 'SPY_CHANGE_PCT'].mean()\n",
        "print(avg_return_twopct_red)\n",
        "\n",
        "#The average return for this subset of 56 days is -3.12%"
      ],
      "metadata": {
        "colab": {
          "base_uri": "https://localhost:8080/"
        },
        "id": "M-5sf4ALSnIW",
        "outputId": "ffe87139-e4f0-4c03-9f73-3dcf04020425"
      },
      "execution_count": 45,
      "outputs": [
        {
          "output_type": "stream",
          "name": "stdout",
          "text": [
            "65\n",
            "-3.1221076923076927\n"
          ]
        }
      ]
    },
    {
      "cell_type": "markdown",
      "source": [
        "11. Print the 10 best days of the $SPY's performance and their corresponding VIX change"
      ],
      "metadata": {
        "id": "23fqzPtmMRbj"
      }
    },
    {
      "cell_type": "code",
      "source": [
        "spy_top_ten = df1.sort_values('SPY_CHANGE_PCT', ascending = False)\n",
        "\n",
        "print(spy_top_ten.head(10)[['SPY_CHANGE_PCT', 'VIX_CHANGE_PCT']])\n",
        "\n",
        "#We observe that in 3 of the top 10 best days for the $SPY, the VIX Index appreciated"
      ],
      "metadata": {
        "colab": {
          "base_uri": "https://localhost:8080/"
        },
        "id": "Gz8EvdnxTLkG",
        "outputId": "5409a6b3-7470-4608-fc48-e7c3c87b3ef1"
      },
      "execution_count": 50,
      "outputs": [
        {
          "output_type": "stream",
          "name": "stdout",
          "text": [
            "      SPY_CHANGE_PCT  VIX_CHANGE_PCT\n",
            "2572           5.858         -11.233\n",
            "2565           5.614          -5.689\n",
            "2581           4.760          -8.681\n",
            "2562           4.282           0.602\n",
            "2574           3.877           1.021\n",
            "2630           3.862         -13.428\n",
            "2556           3.819         -12.383\n",
            "3237           3.803          -2.703\n",
            "87             3.604         -22.005\n",
            "2567           3.495          12.866\n"
          ]
        }
      ]
    },
    {
      "cell_type": "markdown",
      "source": [
        "12. Print the 10 worst days of the $SPY's performance and their corresponding VIX change"
      ],
      "metadata": {
        "id": "0O6xWk60MZiY"
      }
    },
    {
      "cell_type": "code",
      "source": [
        "spy_worst_ten = df1.sort_values('SPY_CHANGE_PCT')\n",
        "\n",
        "print(spy_worst_ten.head(10)[['SPY_CHANGE_PCT', 'VIX_CHANGE_PCT']])\n",
        "\n",
        "#We observe that in 1 of the worst 10 best days for the $SPY, the VIX Index depreciated"
      ],
      "metadata": {
        "colab": {
          "base_uri": "https://localhost:8080/"
        },
        "id": "mqizs1SaTlYL",
        "outputId": "5f749a45-0254-4011-c6d3-b63ec4179035"
      },
      "execution_count": 52,
      "outputs": [
        {
          "output_type": "stream",
          "name": "stdout",
          "text": [
            "      SPY_CHANGE_PCT  VIX_CHANGE_PCT\n",
            "2566          -9.650           8.812\n",
            "2564          -9.179          29.009\n",
            "2561          -6.956           6.086\n",
            "1419          -5.649          35.963\n",
            "402           -5.239          40.377\n",
            "2578          -4.665           3.819\n",
            "434           -4.539          17.108\n",
            "2627          -4.427          31.197\n",
            "2568          -4.337          -8.058\n",
            "2571          -4.284           1.322\n"
          ]
        }
      ]
    },
    {
      "cell_type": "markdown",
      "source": [
        "13. Print the 10 best days of the VIX Index's performance and their corresponding $SPY change"
      ],
      "metadata": {
        "id": "lHaIYFLaMc6T"
      }
    },
    {
      "cell_type": "code",
      "source": [
        "VIX_best_ten = df1.sort_values('VIX_CHANGE_PCT', ascending = False)\n",
        "\n",
        "print(VIX_best_ten.head(10)[['VIX_CHANGE_PCT', 'SPY_CHANGE_PCT']])\n",
        "\n",
        "#We observe that for the top 10 VIX days, all observations saw a negative $SPY. Surprisingly however, the 2nd best day for the VIX was matched with only a minor drop in SPY"
      ],
      "metadata": {
        "colab": {
          "base_uri": "https://localhost:8080/"
        },
        "id": "r705p9PYUE8j",
        "outputId": "5ff9678c-b18e-498c-a9f9-ea3d52d6f407"
      },
      "execution_count": 53,
      "outputs": [
        {
          "output_type": "stream",
          "name": "stdout",
          "text": [
            "      VIX_CHANGE_PCT  SPY_CHANGE_PCT\n",
            "2036          80.162          -3.267\n",
            "2996          46.331          -1.517\n",
            "1418          41.720          -2.660\n",
            "1630          40.853          -3.269\n",
            "402           40.377          -5.239\n",
            "2551          37.402          -3.497\n",
            "1419          35.963          -5.649\n",
            "2554          31.574          -3.630\n",
            "2627          31.197          -4.427\n",
            "2532          30.538          -2.220\n"
          ]
        }
      ]
    },
    {
      "cell_type": "markdown",
      "source": [
        "14. Print the 10 worst days of the VIX Index's performance and their corresponding $SPY change"
      ],
      "metadata": {
        "id": "YWqCnUyxMivr"
      }
    },
    {
      "cell_type": "code",
      "source": [
        "VIX_worst_ten = df1.sort_values('VIX_CHANGE_PCT')\n",
        "\n",
        "print(VIX_worst_ten.head(10)[['SPY_CHANGE_PCT', 'VIX_CHANGE_PCT']])\n",
        "\n",
        "#Similar to the above, the worst 10 days for the VIX were matched with green $SPY days; again surprisingly, two of the recorded values were less than +1% days for the SPY"
      ],
      "metadata": {
        "colab": {
          "base_uri": "https://localhost:8080/"
        },
        "id": "BSyiuM85UhSr",
        "outputId": "77b0700a-8bd0-4102-bb55-ef2b25f1f114"
      },
      "execution_count": 54,
      "outputs": [
        {
          "output_type": "stream",
          "name": "stdout",
          "text": [
            "      SPY_CHANGE_PCT  VIX_CHANGE_PCT\n",
            "754            3.226         -25.498\n",
            "87             3.604         -22.005\n",
            "1249           2.821         -21.666\n",
            "1838           0.960         -21.348\n",
            "1206           2.047         -19.813\n",
            "1727           1.276         -18.044\n",
            "2043           0.742         -17.665\n",
            "2860           1.522         -17.453\n",
            "3003           1.942         -17.269\n",
            "1208           1.934         -16.912\n"
          ]
        }
      ]
    }
  ]
}